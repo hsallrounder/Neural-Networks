{
  "nbformat": 4,
  "nbformat_minor": 0,
  "metadata": {
    "colab": {
      "provenance": [],
      "authorship_tag": "ABX9TyN/2MZ6Zdpt1Iu/xB7c+eaj",
      "include_colab_link": true
    },
    "kernelspec": {
      "name": "python3",
      "display_name": "Python 3"
    },
    "language_info": {
      "name": "python"
    }
  },
  "cells": [
    {
      "cell_type": "markdown",
      "metadata": {
        "id": "view-in-github",
        "colab_type": "text"
      },
      "source": [
        "<a href=\"https://colab.research.google.com/github/hsallrounder/Neural-Networks-Lab/blob/main/Neural_Networks_Lab_17_03_2023.ipynb\" target=\"_parent\"><img src=\"https://colab.research.google.com/assets/colab-badge.svg\" alt=\"Open In Colab\"/></a>"
      ]
    },
    {
      "cell_type": "markdown",
      "source": [
        "£McCulloch-Pitts Model"
      ],
      "metadata": {
        "id": "qrhF1rY7wrMQ"
      }
    },
    {
      "cell_type": "code",
      "source": [
        "import numpy as np\n",
        "from itertools import product"
      ],
      "metadata": {
        "id": "BCw-KX_zg2LA"
      },
      "execution_count": null,
      "outputs": []
    },
    {
      "cell_type": "code",
      "source": [
        "def and_function(x, y):\n",
        "    print(x)\n",
        "    print(y)\n",
        "    n = int(input(\"Enter the threshold value\"))\n",
        "    result = [0, 0, 0, 1]\n",
        "    for i in range(-10 * n, 10 * n):\n",
        "        for j in range(-10 * n, 10 * n):\n",
        "            sol = []\n",
        "            for k in range(4):\n",
        "                t = i * x[k] + j * y[k]\n",
        "                if t > n or t == n:\n",
        "                    sol.append(1)\n",
        "                else:\n",
        "                    sol.append(0)\n",
        "                if sol == result:\n",
        "                    return i, j\n",
        "\n",
        "\n",
        "def or_function(x, y):\n",
        "    n = int(input(\"Enter the threshold value\"))\n",
        "    result = [0, 1, 1, 1]\n",
        "    for i in range(-10 * n, 10 * n):\n",
        "        for j in range(-10 * n, 10 * n):\n",
        "            sol = []\n",
        "            for k in range(4):\n",
        "                t = i * x[k] + j * y[k]\n",
        "                if t > n or t == n:\n",
        "                    sol.append(1)\n",
        "                else:\n",
        "                    sol.append(0)\n",
        "                if sol == result:\n",
        "                    return i, j\n",
        "\n",
        "\n",
        "def xor_function(x, y):\n",
        "    n1 = int(input(\"Enter the threshold value1: \"))\n",
        "    n2 = int(input(\"Enter the threshold value2: \"))\n",
        "    n3 = int(input(\"Enter the threshold value3: \"))\n",
        "    result = [0, 1, 1, 0]\n",
        "    for w5 in range(-6, 6):\n",
        "        for w6 in range(-6, 6):\n",
        "            for w1 in range(-6, 6):\n",
        "                for w2 in range(-6, 6):\n",
        "                    for w3 in range(-6, 6):\n",
        "                        for w4 in range(-6, 6):\n",
        "                            sol = []\n",
        "                            for k in range(4):\n",
        "                                input1 = x[k] * w1 + y[k] * w2\n",
        "                                input2 = x[k] * w3 + y[k] * w4\n",
        "                                if input1 > n1:\n",
        "                                    input1 = 1\n",
        "                                else:\n",
        "                                    input1 = 0\n",
        "                                if input2 > n2:\n",
        "                                    input2 = 1\n",
        "                                else:\n",
        "                                    input2 = 0\n",
        "                                input3 = input1 * w5 + input2 * w6\n",
        "                                if input3 > n3 or input3 == n3:\n",
        "                                    sol.append(1)\n",
        "                                else:\n",
        "                                    sol.append(0)\n",
        "                            if sol == result:\n",
        "                                return w1, w2, w3, w4, w5, w6\n",
        "\n",
        "\n",
        "print(xor_function([0, 0, 1, 1], [0, 1, 0, 1]))"
      ],
      "metadata": {
        "id": "vVJWwGy4uabq",
        "colab": {
          "base_uri": "https://localhost:8080/"
        },
        "outputId": "f4b28c5a-5b9d-48f6-bc11-d950c8e7e0e4"
      },
      "execution_count": null,
      "outputs": [
        {
          "output_type": "stream",
          "name": "stdout",
          "text": [
            "Enter the threshold value1: 2\n",
            "Enter the threshold value2: 3\n",
            "Enter the threshold value3: 1\n",
            "(1, 2, 4, 4, -6, 1)\n"
          ]
        }
      ]
    },
    {
      "cell_type": "code",
      "source": [
        "# def and_func(x1,x2,theta):\n",
        "#   y=np.array([0,0,0,1])\n",
        "#   weights=[ele for ele in product(range(-6,6), repeat = 2)]\n",
        "#   for w in weights:\n",
        "#     w1=w[0]\n",
        "#     w2=w[1]\n",
        "#     f=x1*w1+x2*w2\n",
        "#     y_pred=(f>=theta).astype(int)\n",
        "#     if np.all(y==y_pred):\n",
        "#       print('w1 =',w1)\n",
        "#       print('w2 =',w2)\n",
        "#       break\n",
        "\n",
        "# x1=np.array([0,0,1,1])\n",
        "# x2=np.array([0,1,0,1])\n",
        "# theta=2\n",
        "# and_func(x1,x2,theta)\n",
        "\n",
        "# def or_func(x1,x2,theta):\n",
        "#   y=np.array([0,1,1,1])\n",
        "#   weights=[ele for ele in product(range(-6,6), repeat = 2)]\n",
        "#   print('theta =',theta)\n",
        "#   for w in weights:\n",
        "#     w1=w[0]\n",
        "#     w2=w[1]\n",
        "#     f=x1*w1+x2*w2\n",
        "#     y_pred=(f>=theta).astype(int)\n",
        "#     if np.all(y==y_pred):\n",
        "#       print('w1 =',w1)\n",
        "#       print('w2 =',w2)\n",
        "#       break\n",
        "\n",
        "# x1=np.array([0,0,1,1])\n",
        "# x2=np.array([0,1,0,1])\n",
        "# theta=2\n",
        "# or_func(x1,x2,theta)"
      ],
      "metadata": {
        "colab": {
          "base_uri": "https://localhost:8080/"
        },
        "id": "jyEG2XhHrTjq",
        "outputId": "9966c85e-fe74-45de-9451-52ee02ced9b1"
      },
      "execution_count": null,
      "outputs": [
        {
          "output_type": "stream",
          "name": "stdout",
          "text": [
            "w1 = 1\n",
            "w2 = 1\n",
            "theta = 2\n",
            "w1 = 2\n",
            "w2 = 2\n"
          ]
        }
      ]
    }
  ]
}