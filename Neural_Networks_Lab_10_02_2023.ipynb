{
  "nbformat": 4,
  "nbformat_minor": 0,
  "metadata": {
    "colab": {
      "provenance": [],
      "authorship_tag": "ABX9TyPwFITrtxYdTBrwEMmaiFgY",
      "include_colab_link": true
    },
    "kernelspec": {
      "name": "python3",
      "display_name": "Python 3"
    },
    "language_info": {
      "name": "python"
    }
  },
  "cells": [
    {
      "cell_type": "markdown",
      "metadata": {
        "id": "view-in-github",
        "colab_type": "text"
      },
      "source": [
        "<a href=\"https://colab.research.google.com/github/hsallrounder/Neural-Networks-Lab/blob/main/Neural_Networks_Lab_10_02_2023.ipynb\" target=\"_parent\"><img src=\"https://colab.research.google.com/assets/colab-badge.svg\" alt=\"Open In Colab\"/></a>"
      ]
    },
    {
      "cell_type": "code",
      "execution_count": null,
      "metadata": {
        "id": "N4qUJjMHgRcZ"
      },
      "outputs": [],
      "source": [
        "from tensorflow.keras.datasets import boston_housing\n",
        "(train_data,train_targets),(test_data,test_targets)=boston_housing.load_data()"
      ]
    },
    {
      "cell_type": "code",
      "source": [
        "train_data.shape"
      ],
      "metadata": {
        "colab": {
          "base_uri": "https://localhost:8080/"
        },
        "id": "gyZxmqcjgTlL",
        "outputId": "f2a3c2cc-e269-4c0c-d8fc-ea222fc51be0"
      },
      "execution_count": null,
      "outputs": [
        {
          "output_type": "execute_result",
          "data": {
            "text/plain": [
              "(404, 13)"
            ]
          },
          "metadata": {},
          "execution_count": 2
        }
      ]
    },
    {
      "cell_type": "code",
      "source": [
        "test_data.shape"
      ],
      "metadata": {
        "colab": {
          "base_uri": "https://localhost:8080/"
        },
        "id": "FJfVsQuWgUva",
        "outputId": "806e3748-aae0-43d4-9540-4aa676bd25c8"
      },
      "execution_count": null,
      "outputs": [
        {
          "output_type": "execute_result",
          "data": {
            "text/plain": [
              "(102, 13)"
            ]
          },
          "metadata": {},
          "execution_count": 3
        }
      ]
    },
    {
      "cell_type": "code",
      "source": [
        "train_targets"
      ],
      "metadata": {
        "colab": {
          "base_uri": "https://localhost:8080/"
        },
        "id": "_QobgV3dgWb6",
        "outputId": "dc74c227-12e4-4272-9732-157f3cda4f75"
      },
      "execution_count": null,
      "outputs": [
        {
          "output_type": "execute_result",
          "data": {
            "text/plain": [
              "array([15.2, 42.3, 50. , 21.1, 17.7, 18.5, 11.3, 15.6, 15.6, 14.4, 12.1,\n",
              "       17.9, 23.1, 19.9, 15.7,  8.8, 50. , 22.5, 24.1, 27.5, 10.9, 30.8,\n",
              "       32.9, 24. , 18.5, 13.3, 22.9, 34.7, 16.6, 17.5, 22.3, 16.1, 14.9,\n",
              "       23.1, 34.9, 25. , 13.9, 13.1, 20.4, 20. , 15.2, 24.7, 22.2, 16.7,\n",
              "       12.7, 15.6, 18.4, 21. , 30.1, 15.1, 18.7,  9.6, 31.5, 24.8, 19.1,\n",
              "       22. , 14.5, 11. , 32. , 29.4, 20.3, 24.4, 14.6, 19.5, 14.1, 14.3,\n",
              "       15.6, 10.5,  6.3, 19.3, 19.3, 13.4, 36.4, 17.8, 13.5, 16.5,  8.3,\n",
              "       14.3, 16. , 13.4, 28.6, 43.5, 20.2, 22. , 23. , 20.7, 12.5, 48.5,\n",
              "       14.6, 13.4, 23.7, 50. , 21.7, 39.8, 38.7, 22.2, 34.9, 22.5, 31.1,\n",
              "       28.7, 46. , 41.7, 21. , 26.6, 15. , 24.4, 13.3, 21.2, 11.7, 21.7,\n",
              "       19.4, 50. , 22.8, 19.7, 24.7, 36.2, 14.2, 18.9, 18.3, 20.6, 24.6,\n",
              "       18.2,  8.7, 44. , 10.4, 13.2, 21.2, 37. , 30.7, 22.9, 20. , 19.3,\n",
              "       31.7, 32. , 23.1, 18.8, 10.9, 50. , 19.6,  5. , 14.4, 19.8, 13.8,\n",
              "       19.6, 23.9, 24.5, 25. , 19.9, 17.2, 24.6, 13.5, 26.6, 21.4, 11.9,\n",
              "       22.6, 19.6,  8.5, 23.7, 23.1, 22.4, 20.5, 23.6, 18.4, 35.2, 23.1,\n",
              "       27.9, 20.6, 23.7, 28. , 13.6, 27.1, 23.6, 20.6, 18.2, 21.7, 17.1,\n",
              "        8.4, 25.3, 13.8, 22.2, 18.4, 20.7, 31.6, 30.5, 20.3,  8.8, 19.2,\n",
              "       19.4, 23.1, 23. , 14.8, 48.8, 22.6, 33.4, 21.1, 13.6, 32.2, 13.1,\n",
              "       23.4, 18.9, 23.9, 11.8, 23.3, 22.8, 19.6, 16.7, 13.4, 22.2, 20.4,\n",
              "       21.8, 26.4, 14.9, 24.1, 23.8, 12.3, 29.1, 21. , 19.5, 23.3, 23.8,\n",
              "       17.8, 11.5, 21.7, 19.9, 25. , 33.4, 28.5, 21.4, 24.3, 27.5, 33.1,\n",
              "       16.2, 23.3, 48.3, 22.9, 22.8, 13.1, 12.7, 22.6, 15. , 15.3, 10.5,\n",
              "       24. , 18.5, 21.7, 19.5, 33.2, 23.2,  5. , 19.1, 12.7, 22.3, 10.2,\n",
              "       13.9, 16.3, 17. , 20.1, 29.9, 17.2, 37.3, 45.4, 17.8, 23.2, 29. ,\n",
              "       22. , 18. , 17.4, 34.6, 20.1, 25. , 15.6, 24.8, 28.2, 21.2, 21.4,\n",
              "       23.8, 31. , 26.2, 17.4, 37.9, 17.5, 20. ,  8.3, 23.9,  8.4, 13.8,\n",
              "        7.2, 11.7, 17.1, 21.6, 50. , 16.1, 20.4, 20.6, 21.4, 20.6, 36.5,\n",
              "        8.5, 24.8, 10.8, 21.9, 17.3, 18.9, 36.2, 14.9, 18.2, 33.3, 21.8,\n",
              "       19.7, 31.6, 24.8, 19.4, 22.8,  7.5, 44.8, 16.8, 18.7, 50. , 50. ,\n",
              "       19.5, 20.1, 50. , 17.2, 20.8, 19.3, 41.3, 20.4, 20.5, 13.8, 16.5,\n",
              "       23.9, 20.6, 31.5, 23.3, 16.8, 14. , 33.8, 36.1, 12.8, 18.3, 18.7,\n",
              "       19.1, 29. , 30.1, 50. , 50. , 22. , 11.9, 37.6, 50. , 22.7, 20.8,\n",
              "       23.5, 27.9, 50. , 19.3, 23.9, 22.6, 15.2, 21.7, 19.2, 43.8, 20.3,\n",
              "       33.2, 19.9, 22.5, 32.7, 22. , 17.1, 19. , 15. , 16.1, 25.1, 23.7,\n",
              "       28.7, 37.2, 22.6, 16.4, 25. , 29.8, 22.1, 17.4, 18.1, 30.3, 17.5,\n",
              "       24.7, 12.6, 26.5, 28.7, 13.3, 10.4, 24.4, 23. , 20. , 17.8,  7. ,\n",
              "       11.8, 24.4, 13.8, 19.4, 25.2, 19.4, 19.4, 29.1])"
            ]
          },
          "metadata": {},
          "execution_count": 4
        }
      ]
    },
    {
      "cell_type": "code",
      "source": [
        "test_data[0]"
      ],
      "metadata": {
        "colab": {
          "base_uri": "https://localhost:8080/"
        },
        "id": "ZvLiVlf5gXjI",
        "outputId": "3376df28-eb37-49cb-c4e1-e912563323f4"
      },
      "execution_count": null,
      "outputs": [
        {
          "output_type": "execute_result",
          "data": {
            "text/plain": [
              "array([ 18.0846,   0.    ,  18.1   ,   0.    ,   0.679 ,   6.434 ,\n",
              "       100.    ,   1.8347,  24.    , 666.    ,  20.2   ,  27.25  ,\n",
              "        29.05  ])"
            ]
          },
          "metadata": {},
          "execution_count": 5
        }
      ]
    },
    {
      "cell_type": "code",
      "source": [
        "mean=train_data.mean(axis=0)\n",
        "train_data -= mean\n",
        "std = train_data.std(axis=0)\n",
        "train_data/=std\n",
        "test_data-=mean\n",
        "test_data/=std"
      ],
      "metadata": {
        "id": "3uqkVXwVgYwY"
      },
      "execution_count": null,
      "outputs": []
    },
    {
      "cell_type": "code",
      "source": [
        "from tensorflow import keras\n",
        "from keras import layers"
      ],
      "metadata": {
        "id": "ZWJRG-GegZ5i"
      },
      "execution_count": null,
      "outputs": []
    },
    {
      "cell_type": "code",
      "source": [
        "def build_model():\n",
        "  model=keras.Sequential([\n",
        "      layers.Dense(64,input_dim=13,activation=\"relu\"),\n",
        "      layers.Dense(64,activation=\"relu\"),\n",
        "      layers.Dense(1)\n",
        "  ])\n",
        "  model.compile(optimizer=\"rmsprop\",loss=\"mse\",metrics=[\"mae\"])\n",
        "  return model"
      ],
      "metadata": {
        "id": "1bfeUsNYgsOK"
      },
      "execution_count": null,
      "outputs": []
    },
    {
      "cell_type": "code",
      "source": [
        "model=build_model()"
      ],
      "metadata": {
        "id": "KyJZIKCyhMQN"
      },
      "execution_count": null,
      "outputs": []
    },
    {
      "cell_type": "code",
      "source": [
        "model.summary()"
      ],
      "metadata": {
        "colab": {
          "base_uri": "https://localhost:8080/"
        },
        "id": "RXIMgrOShOqd",
        "outputId": "4a4f5384-b5c5-4030-9113-4c34813e5a00"
      },
      "execution_count": null,
      "outputs": [
        {
          "output_type": "stream",
          "name": "stdout",
          "text": [
            "Model: \"sequential\"\n",
            "_________________________________________________________________\n",
            " Layer (type)                Output Shape              Param #   \n",
            "=================================================================\n",
            " dense (Dense)               (None, 64)                896       \n",
            "                                                                 \n",
            " dense_1 (Dense)             (None, 64)                4160      \n",
            "                                                                 \n",
            " dense_2 (Dense)             (None, 1)                 65        \n",
            "                                                                 \n",
            "=================================================================\n",
            "Total params: 5,121\n",
            "Trainable params: 5,121\n",
            "Non-trainable params: 0\n",
            "_________________________________________________________________\n"
          ]
        }
      ]
    },
    {
      "cell_type": "code",
      "source": [
        "from keras.utils import plot_model\n",
        "plot_model(model, to_file = \"model_plot.png\", show_shapes=True,show_layer_names=True)"
      ],
      "metadata": {
        "colab": {
          "base_uri": "https://localhost:8080/",
          "height": 422
        },
        "id": "XKVQsw5mhSPF",
        "outputId": "32308897-44e3-4de3-8d04-137701e33f3f"
      },
      "execution_count": null,
      "outputs": [
        {
          "output_type": "execute_result",
          "data": {
            "image/png": "[encoded data removed]",
            "text/plain": [
              "<IPython.core.display.Image object>"
            ]
          },
          "metadata": {},
          "execution_count": 11
        }
      ]
    },
    {
      "cell_type": "code",
      "source": [
        "history=model.fit(train_data,train_targets,validation_split=0.2,epochs=100,batch_size=16,verbose=1)"
      ],
      "metadata": {
        "colab": {
          "base_uri": "https://localhost:8080/"
        },
        "id": "uaL7SP6shoKB",
        "outputId": "259ba06b-5d31-46cc-f07a-96c595e5dd3d"
      },
      "execution_count": null,
      "outputs": [
        {
          "output_type": "stream",
          "name": "stdout",
          "text": [
            "Epoch 1/100\n",
            "21/21 [==============================] - 1s 12ms/step - loss: 509.6590 - mae: 20.4542 - val_loss: 507.0764 - val_mae: 20.4771\n",
            "Epoch 2/100\n",
            "21/21 [==============================] - 0s 4ms/step - loss: 381.7791 - mae: 17.2410 - val_loss: 361.0397 - val_mae: 16.7164\n",
            "Epoch 3/100\n",
            "21/21 [==============================] - 0s 12ms/step - loss: 242.4759 - mae: 13.2088 - val_loss: 216.0724 - val_mae: 12.2599\n",
            "Epoch 4/100\n",
            "21/21 [==============================] - 0s 4ms/step - loss: 129.3776 - mae: 9.1429 - val_loss: 115.1769 - val_mae: 8.0563\n",
            "Epoch 5/100\n",
            "21/21 [==============================] - 0s 3ms/step - loss: 67.1473 - mae: 6.2311 - val_loss: 65.8161 - val_mae: 5.7883\n",
            "Epoch 6/100\n",
            "21/21 [==============================] - 0s 4ms/step - loss: 42.9343 - mae: 4.7024 - val_loss: 46.5954 - val_mae: 4.6922\n",
            "Epoch 7/100\n",
            "21/21 [==============================] - 0s 4ms/step - loss: 32.0646 - mae: 3.8961 - val_loss: 35.1087 - val_mae: 4.1413\n",
            "Epoch 8/100\n",
            "21/21 [==============================] - 0s 3ms/step - loss: 26.3515 - mae: 3.5116 - val_loss: 29.3617 - val_mae: 3.8540\n",
            "Epoch 9/100\n",
            "21/21 [==============================] - 0s 4ms/step - loss: 23.8363 - mae: 3.2882 - val_loss: 27.5265 - val_mae: 3.6629\n",
            "Epoch 10/100\n",
            "21/21 [==============================] - 0s 3ms/step - loss: 22.1466 - mae: 3.1421 - val_loss: 24.6298 - val_mae: 3.5496\n",
            "Epoch 11/100\n",
            "21/21 [==============================] - 0s 4ms/step - loss: 20.3596 - mae: 2.9717 - val_loss: 22.9888 - val_mae: 3.4974\n",
            "Epoch 12/100\n",
            "21/21 [==============================] - 0s 4ms/step - loss: 19.0995 - mae: 2.9424 - val_loss: 22.8557 - val_mae: 3.5883\n",
            "Epoch 13/100\n",
            "21/21 [==============================] - 0s 5ms/step - loss: 18.2279 - mae: 2.8252 - val_loss: 22.1792 - val_mae: 3.5288\n",
            "Epoch 14/100\n",
            "21/21 [==============================] - 0s 3ms/step - loss: 17.2543 - mae: 2.7967 - val_loss: 19.7338 - val_mae: 3.1611\n",
            "Epoch 15/100\n",
            "21/21 [==============================] - 0s 4ms/step - loss: 16.0872 - mae: 2.6462 - val_loss: 18.0183 - val_mae: 3.0572\n",
            "Epoch 16/100\n",
            "21/21 [==============================] - 0s 3ms/step - loss: 15.2412 - mae: 2.6101 - val_loss: 18.0289 - val_mae: 3.1058\n",
            "Epoch 17/100\n",
            "21/21 [==============================] - 0s 3ms/step - loss: 14.5716 - mae: 2.5881 - val_loss: 17.5923 - val_mae: 2.9973\n",
            "Epoch 18/100\n",
            "21/21 [==============================] - 0s 4ms/step - loss: 14.0359 - mae: 2.5435 - val_loss: 16.7696 - val_mae: 3.0098\n",
            "Epoch 19/100\n",
            "21/21 [==============================] - 0s 3ms/step - loss: 13.5098 - mae: 2.4634 - val_loss: 16.2557 - val_mae: 3.0430\n",
            "Epoch 20/100\n",
            "21/21 [==============================] - 0s 4ms/step - loss: 12.7883 - mae: 2.4476 - val_loss: 15.9499 - val_mae: 2.9901\n",
            "Epoch 21/100\n",
            "21/21 [==============================] - 0s 3ms/step - loss: 12.4455 - mae: 2.3912 - val_loss: 15.4931 - val_mae: 2.9234\n",
            "Epoch 22/100\n",
            "21/21 [==============================] - 0s 5ms/step - loss: 11.7741 - mae: 2.3108 - val_loss: 15.4499 - val_mae: 2.9415\n",
            "Epoch 23/100\n",
            "21/21 [==============================] - 0s 3ms/step - loss: 11.4809 - mae: 2.3057 - val_loss: 15.4858 - val_mae: 2.8194\n",
            "Epoch 24/100\n",
            "21/21 [==============================] - 0s 4ms/step - loss: 11.1706 - mae: 2.2469 - val_loss: 16.0257 - val_mae: 2.9993\n",
            "Epoch 25/100\n",
            "21/21 [==============================] - 0s 4ms/step - loss: 10.9297 - mae: 2.2109 - val_loss: 15.4386 - val_mae: 2.7660\n",
            "Epoch 26/100\n",
            "21/21 [==============================] - 0s 3ms/step - loss: 10.5564 - mae: 2.2359 - val_loss: 14.7083 - val_mae: 2.8046\n",
            "Epoch 27/100\n",
            "21/21 [==============================] - 0s 4ms/step - loss: 10.2254 - mae: 2.2227 - val_loss: 15.5904 - val_mae: 2.9211\n",
            "Epoch 28/100\n",
            "21/21 [==============================] - 0s 3ms/step - loss: 10.1319 - mae: 2.1228 - val_loss: 15.7828 - val_mae: 2.8313\n",
            "Epoch 29/100\n",
            "21/21 [==============================] - 0s 3ms/step - loss: 9.7104 - mae: 2.1417 - val_loss: 14.7594 - val_mae: 2.8514\n",
            "Epoch 30/100\n",
            "21/21 [==============================] - 0s 4ms/step - loss: 9.6270 - mae: 2.0992 - val_loss: 15.8028 - val_mae: 2.7596\n",
            "Epoch 31/100\n",
            "21/21 [==============================] - 0s 3ms/step - loss: 9.4852 - mae: 2.1161 - val_loss: 15.0465 - val_mae: 2.7011\n",
            "Epoch 32/100\n",
            "21/21 [==============================] - 0s 3ms/step - loss: 9.3054 - mae: 2.0872 - val_loss: 15.3977 - val_mae: 2.8369\n",
            "Epoch 33/100\n",
            "21/21 [==============================] - 0s 3ms/step - loss: 9.1887 - mae: 2.0424 - val_loss: 15.1398 - val_mae: 2.6864\n",
            "Epoch 34/100\n",
            "21/21 [==============================] - 0s 3ms/step - loss: 9.0157 - mae: 2.0238 - val_loss: 15.1306 - val_mae: 2.7455\n",
            "Epoch 35/100\n",
            "21/21 [==============================] - 0s 3ms/step - loss: 8.8195 - mae: 2.0209 - val_loss: 15.5893 - val_mae: 2.7234\n",
            "Epoch 36/100\n",
            "21/21 [==============================] - 0s 4ms/step - loss: 8.5891 - mae: 2.0109 - val_loss: 15.0890 - val_mae: 2.7622\n",
            "Epoch 37/100\n",
            "21/21 [==============================] - 0s 3ms/step - loss: 8.6900 - mae: 1.9921 - val_loss: 16.2713 - val_mae: 2.7060\n",
            "Epoch 38/100\n",
            "21/21 [==============================] - 0s 3ms/step - loss: 8.5632 - mae: 2.0125 - val_loss: 15.3626 - val_mae: 2.7610\n",
            "Epoch 39/100\n",
            "21/21 [==============================] - 0s 6ms/step - loss: 8.3942 - mae: 1.9585 - val_loss: 15.5053 - val_mae: 2.6678\n",
            "Epoch 40/100\n",
            "21/21 [==============================] - 0s 8ms/step - loss: 8.5828 - mae: 2.0113 - val_loss: 15.3188 - val_mae: 2.6791\n",
            "Epoch 41/100\n",
            "21/21 [==============================] - 0s 8ms/step - loss: 8.2405 - mae: 1.9736 - val_loss: 14.7150 - val_mae: 2.7639\n",
            "Epoch 42/100\n",
            "21/21 [==============================] - 0s 7ms/step - loss: 8.1667 - mae: 1.9273 - val_loss: 16.4278 - val_mae: 2.7234\n",
            "Epoch 43/100\n",
            "21/21 [==============================] - 0s 8ms/step - loss: 7.9458 - mae: 1.9630 - val_loss: 15.2513 - val_mae: 2.7465\n",
            "Epoch 44/100\n",
            "21/21 [==============================] - 0s 6ms/step - loss: 7.9797 - mae: 1.9308 - val_loss: 15.6742 - val_mae: 2.7236\n",
            "Epoch 45/100\n",
            "21/21 [==============================] - 0s 8ms/step - loss: 7.9134 - mae: 1.8964 - val_loss: 16.6444 - val_mae: 2.6056\n",
            "Epoch 46/100\n",
            "21/21 [==============================] - 0s 5ms/step - loss: 7.9049 - mae: 1.9012 - val_loss: 15.5491 - val_mae: 2.6326\n",
            "Epoch 47/100\n",
            "21/21 [==============================] - 0s 6ms/step - loss: 7.7040 - mae: 1.8711 - val_loss: 15.7048 - val_mae: 2.7245\n",
            "Epoch 48/100\n",
            "21/21 [==============================] - 0s 13ms/step - loss: 7.6666 - mae: 1.8642 - val_loss: 16.6640 - val_mae: 2.6257\n",
            "Epoch 49/100\n",
            "21/21 [==============================] - 0s 15ms/step - loss: 7.6568 - mae: 1.8859 - val_loss: 16.3652 - val_mae: 2.6040\n",
            "Epoch 50/100\n",
            "21/21 [==============================] - 0s 8ms/step - loss: 7.5106 - mae: 1.8687 - val_loss: 16.9565 - val_mae: 2.7043\n",
            "Epoch 51/100\n",
            "21/21 [==============================] - 0s 11ms/step - loss: 7.4289 - mae: 1.9168 - val_loss: 14.7924 - val_mae: 2.7216\n",
            "Epoch 52/100\n",
            "21/21 [==============================] - 0s 9ms/step - loss: 7.4240 - mae: 1.8763 - val_loss: 16.8273 - val_mae: 2.6282\n",
            "Epoch 53/100\n",
            "21/21 [==============================] - 0s 12ms/step - loss: 7.4155 - mae: 1.8379 - val_loss: 17.6793 - val_mae: 2.6664\n",
            "Epoch 54/100\n",
            "21/21 [==============================] - 0s 17ms/step - loss: 7.2308 - mae: 1.8596 - val_loss: 16.3685 - val_mae: 2.7070\n",
            "Epoch 55/100\n",
            "21/21 [==============================] - 0s 9ms/step - loss: 7.1869 - mae: 1.8606 - val_loss: 16.0809 - val_mae: 2.6513\n",
            "Epoch 56/100\n",
            "21/21 [==============================] - 0s 9ms/step - loss: 7.2293 - mae: 1.8604 - val_loss: 16.5769 - val_mae: 2.7099\n",
            "Epoch 57/100\n",
            "21/21 [==============================] - 0s 17ms/step - loss: 7.2939 - mae: 1.8300 - val_loss: 17.1932 - val_mae: 2.5821\n",
            "Epoch 58/100\n",
            "21/21 [==============================] - 0s 13ms/step - loss: 7.2400 - mae: 1.8236 - val_loss: 14.9689 - val_mae: 2.7640\n",
            "Epoch 59/100\n",
            "21/21 [==============================] - 0s 15ms/step - loss: 7.0800 - mae: 1.8141 - val_loss: 16.0101 - val_mae: 2.5931\n",
            "Epoch 60/100\n",
            "21/21 [==============================] - 0s 13ms/step - loss: 7.0275 - mae: 1.8071 - val_loss: 15.8282 - val_mae: 2.5702\n",
            "Epoch 61/100\n",
            "21/21 [==============================] - 0s 6ms/step - loss: 6.8894 - mae: 1.7996 - val_loss: 15.6554 - val_mae: 2.5635\n",
            "Epoch 62/100\n",
            "21/21 [==============================] - 0s 8ms/step - loss: 6.7357 - mae: 1.8123 - val_loss: 15.1985 - val_mae: 2.7088\n",
            "Epoch 63/100\n",
            "21/21 [==============================] - 0s 9ms/step - loss: 6.7737 - mae: 1.7564 - val_loss: 15.7154 - val_mae: 2.6203\n",
            "Epoch 64/100\n",
            "21/21 [==============================] - 0s 5ms/step - loss: 6.9353 - mae: 1.8019 - val_loss: 16.1955 - val_mae: 2.6714\n",
            "Epoch 65/100\n",
            "21/21 [==============================] - 0s 6ms/step - loss: 6.5477 - mae: 1.7655 - val_loss: 16.8654 - val_mae: 2.5601\n",
            "Epoch 66/100\n",
            "21/21 [==============================] - 0s 6ms/step - loss: 6.5678 - mae: 1.7906 - val_loss: 15.3713 - val_mae: 2.7087\n",
            "Epoch 67/100\n",
            "21/21 [==============================] - 0s 6ms/step - loss: 6.5511 - mae: 1.7419 - val_loss: 15.0404 - val_mae: 2.7280\n",
            "Epoch 68/100\n",
            "21/21 [==============================] - 0s 7ms/step - loss: 6.3610 - mae: 1.7143 - val_loss: 15.6552 - val_mae: 2.6689\n",
            "Epoch 69/100\n",
            "21/21 [==============================] - 0s 9ms/step - loss: 6.4036 - mae: 1.7317 - val_loss: 18.3738 - val_mae: 2.6920\n",
            "Epoch 70/100\n",
            "21/21 [==============================] - 0s 7ms/step - loss: 6.4991 - mae: 1.7588 - val_loss: 16.6559 - val_mae: 2.6968\n",
            "Epoch 71/100\n",
            "21/21 [==============================] - 0s 5ms/step - loss: 6.5595 - mae: 1.7496 - val_loss: 16.0679 - val_mae: 2.5968\n",
            "Epoch 72/100\n",
            "21/21 [==============================] - 0s 5ms/step - loss: 6.2746 - mae: 1.7176 - val_loss: 16.7042 - val_mae: 2.6755\n",
            "Epoch 73/100\n",
            "21/21 [==============================] - 0s 8ms/step - loss: 6.4723 - mae: 1.7324 - val_loss: 16.1689 - val_mae: 2.6789\n",
            "Epoch 74/100\n",
            "21/21 [==============================] - 0s 7ms/step - loss: 6.1994 - mae: 1.7055 - val_loss: 15.9903 - val_mae: 2.6027\n",
            "Epoch 75/100\n",
            "21/21 [==============================] - 0s 8ms/step - loss: 6.3113 - mae: 1.7085 - val_loss: 18.9743 - val_mae: 2.6097\n",
            "Epoch 76/100\n",
            "21/21 [==============================] - 0s 8ms/step - loss: 6.2810 - mae: 1.7059 - val_loss: 16.0628 - val_mae: 2.7370\n",
            "Epoch 77/100\n",
            "21/21 [==============================] - 0s 7ms/step - loss: 6.2349 - mae: 1.6974 - val_loss: 17.3440 - val_mae: 2.6377\n",
            "Epoch 78/100\n",
            "21/21 [==============================] - 0s 11ms/step - loss: 6.0636 - mae: 1.7218 - val_loss: 16.0899 - val_mae: 2.7689\n",
            "Epoch 79/100\n",
            "21/21 [==============================] - 0s 6ms/step - loss: 6.1185 - mae: 1.6991 - val_loss: 16.5123 - val_mae: 2.6185\n",
            "Epoch 80/100\n",
            "21/21 [==============================] - 0s 9ms/step - loss: 6.2137 - mae: 1.7161 - val_loss: 16.7016 - val_mae: 2.6215\n",
            "Epoch 81/100\n",
            "21/21 [==============================] - 0s 7ms/step - loss: 6.0899 - mae: 1.7167 - val_loss: 16.1140 - val_mae: 2.5961\n",
            "Epoch 82/100\n",
            "21/21 [==============================] - 0s 7ms/step - loss: 6.0290 - mae: 1.6462 - val_loss: 17.4184 - val_mae: 2.6476\n",
            "Epoch 83/100\n",
            "21/21 [==============================] - 0s 7ms/step - loss: 5.9587 - mae: 1.6670 - val_loss: 17.4768 - val_mae: 2.7180\n",
            "Epoch 84/100\n",
            "21/21 [==============================] - 0s 11ms/step - loss: 5.9786 - mae: 1.6692 - val_loss: 17.5104 - val_mae: 2.6569\n",
            "Epoch 85/100\n",
            "21/21 [==============================] - 0s 13ms/step - loss: 5.8024 - mae: 1.6304 - val_loss: 16.2851 - val_mae: 2.5544\n",
            "Epoch 86/100\n",
            "21/21 [==============================] - 0s 5ms/step - loss: 5.5192 - mae: 1.5928 - val_loss: 15.3931 - val_mae: 2.7750\n",
            "Epoch 87/100\n",
            "21/21 [==============================] - 0s 9ms/step - loss: 5.8831 - mae: 1.6638 - val_loss: 15.5681 - val_mae: 2.5381\n",
            "Epoch 88/100\n",
            "21/21 [==============================] - 0s 8ms/step - loss: 5.6719 - mae: 1.6361 - val_loss: 16.2739 - val_mae: 2.5942\n",
            "Epoch 89/100\n",
            "21/21 [==============================] - 0s 6ms/step - loss: 5.6487 - mae: 1.6304 - val_loss: 18.7978 - val_mae: 2.8337\n",
            "Epoch 90/100\n",
            "21/21 [==============================] - 0s 10ms/step - loss: 5.6689 - mae: 1.6735 - val_loss: 16.0978 - val_mae: 2.8025\n",
            "Epoch 91/100\n",
            "21/21 [==============================] - 0s 7ms/step - loss: 5.7829 - mae: 1.6333 - val_loss: 16.0955 - val_mae: 2.6296\n",
            "Epoch 92/100\n",
            "21/21 [==============================] - 0s 7ms/step - loss: 5.4812 - mae: 1.6106 - val_loss: 17.7843 - val_mae: 2.8176\n",
            "Epoch 93/100\n",
            "21/21 [==============================] - 0s 8ms/step - loss: 5.9196 - mae: 1.6752 - val_loss: 16.0717 - val_mae: 2.5936\n",
            "Epoch 94/100\n",
            "21/21 [==============================] - 0s 7ms/step - loss: 5.4772 - mae: 1.6295 - val_loss: 16.2534 - val_mae: 2.5889\n",
            "Epoch 95/100\n",
            "21/21 [==============================] - 0s 14ms/step - loss: 5.4527 - mae: 1.6142 - val_loss: 16.0964 - val_mae: 2.5956\n",
            "Epoch 96/100\n",
            "21/21 [==============================] - 0s 6ms/step - loss: 5.3517 - mae: 1.5776 - val_loss: 17.0685 - val_mae: 2.8196\n",
            "Epoch 97/100\n",
            "21/21 [==============================] - 0s 8ms/step - loss: 5.5595 - mae: 1.6304 - val_loss: 15.8861 - val_mae: 2.5264\n",
            "Epoch 98/100\n",
            "21/21 [==============================] - 0s 10ms/step - loss: 5.3459 - mae: 1.6091 - val_loss: 16.6470 - val_mae: 2.5359\n",
            "Epoch 99/100\n",
            "21/21 [==============================] - 0s 13ms/step - loss: 5.2178 - mae: 1.5976 - val_loss: 16.3335 - val_mae: 2.5076\n",
            "Epoch 100/100\n",
            "21/21 [==============================] - 0s 9ms/step - loss: 5.4153 - mae: 1.5894 - val_loss: 17.8753 - val_mae: 2.6675\n"
          ]
        }
      ]
    },
    {
      "cell_type": "code",
      "source": [
        "test_mse_score,test_mae_score=model.evaluate(test_data,test_targets)"
      ],
      "metadata": {
        "colab": {
          "base_uri": "https://localhost:8080/"
        },
        "id": "KjQsqdexh6_g",
        "outputId": "2a9147af-e705-454e-a6a5-2e7160356f53"
      },
      "execution_count": null,
      "outputs": [
        {
          "output_type": "stream",
          "name": "stdout",
          "text": [
            "4/4 [==============================] - 0s 4ms/step - loss: 23.9317 - mae: 2.9131\n"
          ]
        }
      ]
    },
    {
      "cell_type": "code",
      "source": [
        "test_mae_score"
      ],
      "metadata": {
        "colab": {
          "base_uri": "https://localhost:8080/"
        },
        "id": "QMt3FGsKiOUJ",
        "outputId": "7dad22e9-9efe-49f0-bcc5-59e8b34eec9d"
      },
      "execution_count": null,
      "outputs": [
        {
          "output_type": "execute_result",
          "data": {
            "text/plain": [
              "2.9131054878234863"
            ]
          },
          "metadata": {},
          "execution_count": 14
        }
      ]
    },
    {
      "cell_type": "code",
      "source": [
        "import matplotlib.pyplot as plt"
      ],
      "metadata": {
        "id": "3e-a7e2NiwHq"
      },
      "execution_count": null,
      "outputs": []
    },
    {
      "cell_type": "code",
      "source": [
        "loss=history.history[\"loss\"]\n",
        "val_loss=history.history[\"val_loss\"]\n",
        "epochs=range(1,len(loss)+1)\n",
        "plt.plot(epochs,loss,\"r\",label=\"Training loss\")\n",
        "plt.plot(epochs,val_loss,\"b\",label=\"Validation loss\")\n",
        "plt.title(\"Training and validation loss\")\n",
        "plt.xlabel(\"Epochs\")\n",
        "plt.ylabel(\"Loss\")\n",
        "plt.legend()\n",
        "plt.show()"
      ],
      "metadata": {
        "colab": {
          "base_uri": "https://localhost:8080/",
          "height": 295
        },
        "id": "aNWlqJn9jRkg",
        "outputId": "c6a2dfc7-f349-46f5-c005-78af81080252"
      },
      "execution_count": null,
      "outputs": [
        {
          "output_type": "display_data",
          "data": {
            "text/plain": [
              "<Figure size 432x288 with 1 Axes>"
            ],
            "image/png": "[encoded data removed]"
          },
          "metadata": {
            "needs_background": "light"
          }
        }
      ]
    },
    {
      "cell_type": "code",
      "source": [
        "predictions = model.predict(test_data)\n",
        "print(predictions[0],\n",
        "      predictions[1],\n",
        "      predictions[2]\n",
        "      )"
      ],
      "metadata": {
        "colab": {
          "base_uri": "https://localhost:8080/"
        },
        "id": "Qu_SF_yrkMVa",
        "outputId": "3c937959-db1a-4ce4-84c9-e730becf9fdd"
      },
      "execution_count": null,
      "outputs": [
        {
          "output_type": "stream",
          "name": "stdout",
          "text": [
            "4/4 [==============================] - 0s 3ms/step\n",
            "[8.873887] [19.399279] [21.963411]\n"
          ]
        }
      ]
    }
  ]
}