{
  "nbformat": 4,
  "nbformat_minor": 0,
  "metadata": {
    "colab": {
      "provenance": [],
      "authorship_tag": "ABX9TyMy1RvCoaeuevnvd3/vGmeB",
      "include_colab_link": true
    },
    "kernelspec": {
      "name": "python3",
      "display_name": "Python 3"
    },
    "language_info": {
      "name": "python"
    }
  },
  "cells": [
    {
      "cell_type": "markdown",
      "metadata": {
        "id": "view-in-github",
        "colab_type": "text"
      },
      "source": [
        "<a href=\"https://colab.research.google.com/github/hsallrounder/Neural-Networks-Lab/blob/main/Neural_Networks_Lab_07_01_2023.ipynb\" target=\"_parent\"><img src=\"https://colab.research.google.com/assets/colab-badge.svg\" alt=\"Open In Colab\"/></a>"
      ]
    },
    {
      "cell_type": "markdown",
      "source": [
        "#Activation Functions"
      ],
      "metadata": {
        "id": "-GZG4WONuGrZ"
      }
    },
    {
      "cell_type": "code",
      "execution_count": null,
      "metadata": {
        "colab": {
          "base_uri": "https://localhost:8080/"
        },
        "id": "fBQUwhLitSWT",
        "outputId": "d9daee99-0d0a-4790-bc56-da388fdf1286"
      },
      "outputs": [
        {
          "output_type": "stream",
          "name": "stdout",
          "text": [
            "0\n",
            "1\n",
            "0.5374298453437496\n",
            "1.197375320224904\n"
          ]
        }
      ],
      "source": [
        "import math\n",
        "\n",
        "\n",
        "def binary_step_function(x, threshold=0.5):\n",
        "    if x >= threshold:\n",
        "        return 1\n",
        "    return 0\n",
        "\n",
        "\n",
        "def bipolar_step_function(x, threshold=0.5):\n",
        "    if x >= threshold:\n",
        "        return 1\n",
        "    return -1\n",
        "\n",
        "\n",
        "def binary_sigmoidal(x, learning_rate=0.5):\n",
        "    ans = float(1 / (1 + math.exp(-learning_rate * x)))\n",
        "    return ans\n",
        "\n",
        "\n",
        "def bipolar_sigmoidal(x, learning_rate=0.5):\n",
        "    ans = float(2 / (1 + math.exp(-learning_rate * x)))\n",
        "    return ans\n",
        "\n",
        "print(binary_step_function(0.4))\n",
        "print(bipolar_step_function(0.7))\n",
        "print(binary_sigmoidal(0.3)) \n",
        "print(bipolar_sigmoidal(0.8))"
      ]
    }
  ]
}